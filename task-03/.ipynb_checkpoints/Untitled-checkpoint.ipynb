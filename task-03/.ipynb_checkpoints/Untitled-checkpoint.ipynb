{
 "cells": [
  {
   "cell_type": "code",
   "execution_count": 1,
   "metadata": {},
   "outputs": [],
   "source": [
    "import pandas as pd"
   ]
  },
  {
   "cell_type": "code",
   "execution_count": 2,
   "metadata": {},
   "outputs": [],
   "source": [
    "names=pd.read_html(\"top5names.html\")[0]"
   ]
  },
  {
   "cell_type": "code",
   "execution_count": 3,
   "metadata": {},
   "outputs": [],
   "source": [
    "names1=names.rename(index=str, columns={0: \"year\", 1: \"rank_1_female\", 2: \"rank_2_female\", 3: \"rank_3_female\", 4: \"rank_4_female\", 5: \"rank_5_female\",\n",
    "                                6: \"rank_1_male\", 7: \"rank_2_male\", 8: \"rank_3_male\", 9: \"rank_4_male\", 10: \"rank_5_male\"})"
   ]
  },
  {
   "cell_type": "code",
   "execution_count": 4,
   "metadata": {},
   "outputs": [],
   "source": [
    "names2=names1.drop(names1.index[0]).drop(names1.index[1]).reset_index(drop=True)"
   ]
  },
  {
   "cell_type": "markdown",
   "metadata": {},
   "source": [
    "Which years Emma is the most chosen names?"
   ]
  },
  {
   "cell_type": "code",
   "execution_count": 5,
   "metadata": {},
   "outputs": [
    {
     "data": {
      "text/plain": [
       "0    2017\n",
       "1    2016\n",
       "2    2015\n",
       "3    2014\n",
       "9    2008\n",
       "Name: year, dtype: object"
      ]
     },
     "execution_count": 5,
     "metadata": {},
     "output_type": "execute_result"
    }
   ],
   "source": [
    "names2[names2['rank_1_female']==\"Emma\"][\"year\"]"
   ]
  },
  {
   "cell_type": "code",
   "execution_count": 8,
   "metadata": {},
   "outputs": [
    {
     "data": {
      "text/html": [
       "<div>\n",
       "<style scoped>\n",
       "    .dataframe tbody tr th:only-of-type {\n",
       "        vertical-align: middle;\n",
       "    }\n",
       "\n",
       "    .dataframe tbody tr th {\n",
       "        vertical-align: top;\n",
       "    }\n",
       "\n",
       "    .dataframe thead th {\n",
       "        text-align: right;\n",
       "    }\n",
       "</style>\n",
       "<table border=\"1\" class=\"dataframe\">\n",
       "  <thead>\n",
       "    <tr style=\"text-align: right;\">\n",
       "      <th></th>\n",
       "      <th>year</th>\n",
       "      <th>rank_1_female</th>\n",
       "      <th>rank_2_female</th>\n",
       "      <th>rank_3_female</th>\n",
       "      <th>rank_4_female</th>\n",
       "      <th>rank_5_female</th>\n",
       "      <th>rank_1_male</th>\n",
       "      <th>rank_2_male</th>\n",
       "      <th>rank_3_male</th>\n",
       "      <th>rank_4_male</th>\n",
       "      <th>rank_5_male</th>\n",
       "    </tr>\n",
       "  </thead>\n",
       "  <tbody>\n",
       "    <tr>\n",
       "      <th>0</th>\n",
       "      <td>2017</td>\n",
       "      <td>Emma</td>\n",
       "      <td>Olivia</td>\n",
       "      <td>Ava</td>\n",
       "      <td>Isabella</td>\n",
       "      <td>Sophia</td>\n",
       "      <td>Liam</td>\n",
       "      <td>Noah</td>\n",
       "      <td>William</td>\n",
       "      <td>James</td>\n",
       "      <td>Logan</td>\n",
       "    </tr>\n",
       "    <tr>\n",
       "      <th>1</th>\n",
       "      <td>2016</td>\n",
       "      <td>Emma</td>\n",
       "      <td>Olivia</td>\n",
       "      <td>Ava</td>\n",
       "      <td>Sophia</td>\n",
       "      <td>Isabella</td>\n",
       "      <td>Noah</td>\n",
       "      <td>Liam</td>\n",
       "      <td>William</td>\n",
       "      <td>Mason</td>\n",
       "      <td>James</td>\n",
       "    </tr>\n",
       "    <tr>\n",
       "      <th>2</th>\n",
       "      <td>2015</td>\n",
       "      <td>Emma</td>\n",
       "      <td>Olivia</td>\n",
       "      <td>Sophia</td>\n",
       "      <td>Ava</td>\n",
       "      <td>Isabella</td>\n",
       "      <td>Noah</td>\n",
       "      <td>Liam</td>\n",
       "      <td>Mason</td>\n",
       "      <td>Jacob</td>\n",
       "      <td>William</td>\n",
       "    </tr>\n",
       "    <tr>\n",
       "      <th>3</th>\n",
       "      <td>2014</td>\n",
       "      <td>Emma</td>\n",
       "      <td>Olivia</td>\n",
       "      <td>Sophia</td>\n",
       "      <td>Isabella</td>\n",
       "      <td>Ava</td>\n",
       "      <td>Noah</td>\n",
       "      <td>Liam</td>\n",
       "      <td>Mason</td>\n",
       "      <td>Jacob</td>\n",
       "      <td>William</td>\n",
       "    </tr>\n",
       "    <tr>\n",
       "      <th>4</th>\n",
       "      <td>2013</td>\n",
       "      <td>Sophia</td>\n",
       "      <td>Emma</td>\n",
       "      <td>Olivia</td>\n",
       "      <td>Isabella</td>\n",
       "      <td>Ava</td>\n",
       "      <td>Noah</td>\n",
       "      <td>Jacob</td>\n",
       "      <td>Liam</td>\n",
       "      <td>Mason</td>\n",
       "      <td>William</td>\n",
       "    </tr>\n",
       "  </tbody>\n",
       "</table>\n",
       "</div>"
      ],
      "text/plain": [
       "   year rank_1_female rank_2_female rank_3_female rank_4_female rank_5_female  \\\n",
       "0  2017          Emma        Olivia           Ava      Isabella        Sophia   \n",
       "1  2016          Emma        Olivia           Ava        Sophia      Isabella   \n",
       "2  2015          Emma        Olivia        Sophia           Ava      Isabella   \n",
       "3  2014          Emma        Olivia        Sophia      Isabella           Ava   \n",
       "4  2013        Sophia          Emma        Olivia      Isabella           Ava   \n",
       "\n",
       "  rank_1_male rank_2_male rank_3_male rank_4_male rank_5_male  \n",
       "0        Liam        Noah     William       James       Logan  \n",
       "1        Noah        Liam     William       Mason       James  \n",
       "2        Noah        Liam       Mason       Jacob     William  \n",
       "3        Noah        Liam       Mason       Jacob     William  \n",
       "4        Noah       Jacob        Liam       Mason     William  "
      ]
     },
     "execution_count": 8,
     "metadata": {},
     "output_type": "execute_result"
    }
   ],
   "source": [
    "names2.head()"
   ]
  },
  {
   "cell_type": "markdown",
   "metadata": {},
   "source": [
    "Which name had been the most chosen name for the longest consecutive years?"
   ]
  },
  {
   "cell_type": "markdown",
   "metadata": {},
   "source": [
    "How many unique male names have be on top 5 between years 1980 and 2000?"
   ]
  },
  {
   "cell_type": "code",
   "execution_count": 107,
   "metadata": {},
   "outputs": [
    {
     "name": "stdout",
     "output_type": "stream",
     "text": [
      "['Jacob' 'Michael' 'Matthew' 'Christopher' 'Jason' 'Joshua' 'David'\n",
      " 'Nicholas' 'Tyler' 'Andrew' 'Daniel' 'James']\n",
      "12\n"
     ]
    }
   ],
   "source": [
    "names_1980_2000=names2[names2['year'].astype('int')>=1980]\n",
    "names_1980_2000=names_1980_2000[names_1980_2000['year'].astype('int')<=2000]\n",
    "names_1980_2000\n",
    "unique_names=names_1980_2000['rank_1_male']\n",
    "unique_names=unique_names.append(names_1980_2000['rank_2_male']).append(names_1980_2000['rank_3_male']).append(names_1980_2000['rank_4_male']).append(names_1980_2000['rank_5_male'])\n",
    "unique_names.reset_index(drop=True)\n",
    "print unique_names.unique()\n",
    "print len(unique_names.unique())"
   ]
  },
  {
   "cell_type": "markdown",
   "metadata": {},
   "source": [
    "Are there more unique male names or more unique female names that are on top 5?"
   ]
  },
  {
   "cell_type": "code",
   "execution_count": 115,
   "metadata": {},
   "outputs": [
    {
     "name": "stdout",
     "output_type": "stream",
     "text": [
      "['Liam' 'Noah' 'Jacob' 'Michael' 'David' 'Robert' 'James' 'John' 'Mason'\n",
      " 'Ethan' 'Matthew' 'Christopher' 'Jason' 'William' 'Joshua' 'Jayden'\n",
      " 'Alexander' 'Logan' 'Daniel' 'Andrew' 'Nicholas' 'Tyler' 'Richard'\n",
      " 'Charles']\n",
      "Unique male names: 24\n",
      "['Emma' 'Sophia' 'Isabella' 'Emily' 'Jessica' 'Ashley' 'Jennifer' 'Lisa'\n",
      " 'Mary' 'Linda' 'Olivia' 'Madison' 'Hannah' 'Amanda' 'Melissa' 'Amy'\n",
      " 'Michelle' 'Kimberly' 'Susan' 'Debra' 'Deborah' 'Barbara' 'Shirley'\n",
      " 'Betty' 'Dorothy' 'Helen' 'Ava' 'Alexis' 'Samantha' 'Sarah' 'Brittany'\n",
      " 'Heather' 'Karen' 'Patricia' 'Abigail' 'Carol' 'Judith' 'Margaret'\n",
      " 'Angela' 'Donna' 'Sandra' 'Joan' 'Ruth']\n",
      "Unique female names: 43\n"
     ]
    }
   ],
   "source": [
    "unique_names_male=names2['rank_1_male']\n",
    "unique_names_male=unique_names_male.append(names2['rank_2_male']).append(names2['rank_3_male']).append(names2['rank_4_male']).append(names2['rank_5_male'])\n",
    "unique_names_male.reset_index(drop=True)\n",
    "print unique_names_male.unique()\n",
    "print \"Unique male names: \" + str(len(unique_names_male.unique()))\n",
    "\n",
    "unique_names_female=names2['rank_1_female']\n",
    "unique_names_female=unique_names_female.append(names2['rank_2_female']).append(names2['rank_3_female']).append(names2['rank_4_female']).append(names2['rank_5_female'])\n",
    "unique_names_female.reset_index(drop=True)\n",
    "print unique_names_female.unique()\n",
    "print \"Unique female names: \" + str(len(unique_names_female.unique()))"
   ]
  },
  {
   "cell_type": "markdown",
   "metadata": {},
   "source": [
    "What is the distribution of the numbers of consecutive years that a male name remains the most chosen name?"
   ]
  },
  {
   "cell_type": "code",
   "execution_count": null,
   "metadata": {},
   "outputs": [],
   "source": []
  }
 ],
 "metadata": {
  "kernelspec": {
   "display_name": "Python 3",
   "language": "python",
   "name": "python3"
  },
  "language_info": {
   "codemirror_mode": {
    "name": "ipython",
    "version": 3
   },
   "file_extension": ".py",
   "mimetype": "text/x-python",
   "name": "python",
   "nbconvert_exporter": "python",
   "pygments_lexer": "ipython3",
   "version": "3.6.5"
  }
 },
 "nbformat": 4,
 "nbformat_minor": 2
}
